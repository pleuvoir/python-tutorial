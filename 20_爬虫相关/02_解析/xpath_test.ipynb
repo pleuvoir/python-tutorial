{
 "cells": [
  {
   "cell_type": "markdown",
   "metadata": {
    "collapsed": true,
    "pycharm": {
     "is_executing": false
    }
   },
   "source": [
    "### 先安装  `pip3 install lxml`"
   ]
  },
  {
   "cell_type": "code",
   "execution_count": 1,
   "metadata": {},
   "outputs": [],
   "source": [
    "from lxml import etree\n",
    "\n",
    "text = \"\"\"                                                                                                         \n",
    "        <div>                                                                                                         \n",
    "            <ul>                                                                                                      \n",
    "                 <li class=\"item-0\"><a test=\"我是test属性中的值\" href=\"我是href.html\">我是第一个的text</a></li>                      \n",
    "                 <li class=\"item-1\"><a href=\"link2.html\">second item</a></li>                                         \n",
    "                 <li class=\"item-inactive\"><a href=\"link3.html\">third item</a></li>                                   \n",
    "                 <li class=\"item-1\"><a href=\"link4.html\">fourth item</a></li>                                         \n",
    "                 <li class=\"item-0\"><a class=\"bgcolor\" id=\"5\" href=\"link5.html\">fifth item</a>                                               \n",
    "             </ul>                                                                                                    \n",
    "         </div>                                                                                                       \n",
    "       \"\"\"  \n",
    "\n",
    "\n",
    "html = etree.HTML(text) #这个就是我们重点操作的对象了\n",
    "all_html = etree.tostring(html)  # 补全所有标签，避免缺胳膊少腿，此例中会补充html和body，由于Notebook打出来是乱码，所以不打印了"
   ]
  },
  {
   "cell_type": "markdown",
   "metadata": {},
   "source": [
    "### 获取a标签中所有的内容文字"
   ]
  },
  {
   "cell_type": "code",
   "execution_count": 2,
   "metadata": {},
   "outputs": [
    {
     "name": "stdout",
     "output_type": "stream",
     "text": [
      "[<Element a at 0x109ad1580>, <Element a at 0x10ba00440>, <Element a at 0x10ba00480>, <Element a at 0x10ba004c0>, <Element a at 0x10ba00500>]\n"
     ]
    }
   ],
   "source": [
    "all_a_content_list = html.xpath('/html/body/div/ul/li/a') #这样获取到的是对象，需要遍历拿出text属性\n",
    "print(all_a_content_list)"
   ]
  },
  {
   "cell_type": "code",
   "execution_count": 3,
   "metadata": {},
   "outputs": [
    {
     "name": "stdout",
     "output_type": "stream",
     "text": [
      "我是a标签中的内容文字： 我是第一个的text\n",
      "我是a标签中的内容文字： second item\n",
      "我是a标签中的内容文字： third item\n",
      "我是a标签中的内容文字： fourth item\n",
      "我是a标签中的内容文字： fifth item\n"
     ]
    }
   ],
   "source": [
    "for item in all_a_content_list:\n",
    "    print('我是a标签中的内容文字：',item.text)"
   ]
  },
  {
   "cell_type": "markdown",
   "metadata": {},
   "source": [
    "### 获取a标签中所有的内容文字"
   ]
  },
  {
   "cell_type": "code",
   "execution_count": 4,
   "metadata": {},
   "outputs": [
    {
     "name": "stdout",
     "output_type": "stream",
     "text": [
      "['我是第一个的text', 'second item', 'third item', 'fourth item', 'fifth item']\n"
     ]
    }
   ],
   "source": [
    "all_a_content_list = html.xpath('/html/body/div/ul/li/a/text()')\n",
    "print(all_a_content_list)"
   ]
  },
  {
   "cell_type": "markdown",
   "metadata": {},
   "source": [
    "### 获取test属性中的值"
   ]
  },
  {
   "cell_type": "code",
   "execution_count": 5,
   "metadata": {},
   "outputs": [
    {
     "name": "stdout",
     "output_type": "stream",
     "text": [
      "['我是test属性中的值']\n"
     ]
    }
   ],
   "source": [
    "test_property = html.xpath('/html/body/div/ul/li/a/@test') # a下面的这个属性（这个直接拿出来的就是这个属性的值了）\n",
    "print(test_property)"
   ]
  },
  {
   "cell_type": "markdown",
   "metadata": {},
   "source": [
    "### 获取拥有test属性那行的内容文字"
   ]
  },
  {
   "cell_type": "code",
   "execution_count": 6,
   "metadata": {},
   "outputs": [
    {
     "name": "stdout",
     "output_type": "stream",
     "text": [
      "['我是第一个的text']\n"
     ]
    }
   ],
   "source": [
    "test_property_content = html.xpath('/html/body/div/ul/li/a[@test=\"我是test属性中的值\"]/text()')\n",
    "print(test_property_content)"
   ]
  },
  {
   "cell_type": "markdown",
   "metadata": {},
   "source": [
    "### 使用相对路径获取a链接中所有内容文字"
   ]
  },
  {
   "cell_type": "code",
   "execution_count": 7,
   "metadata": {},
   "outputs": [
    {
     "name": "stdout",
     "output_type": "stream",
     "text": [
      "['我是第一个的text', 'second item', 'third item', 'fourth item', 'fifth item']\n"
     ]
    }
   ],
   "source": [
    "all_a_content_list = html.xpath('//li/a/text()')\n",
    "print(all_a_content_list)"
   ]
  },
  {
   "cell_type": "markdown",
   "metadata": {},
   "source": [
    "### 使用相对路径获取a链接中href的内容"
   ]
  },
  {
   "cell_type": "code",
   "execution_count": 8,
   "metadata": {},
   "outputs": [
    {
     "name": "stdout",
     "output_type": "stream",
     "text": [
      "['我是href.html', 'link2.html', 'link3.html', 'link4.html', 'link5.html']\n"
     ]
    }
   ],
   "source": [
    "href_list = html.xpath('//li/a//@href')  #注意这里是 双斜杠 //\n",
    "print(href_list)"
   ]
  },
  {
   "cell_type": "markdown",
   "metadata": {},
   "source": [
    "### 使用相对路径获取拥有test属性那行的内容文字"
   ]
  },
  {
   "cell_type": "code",
   "execution_count": 9,
   "metadata": {},
   "outputs": [
    {
     "name": "stdout",
     "output_type": "stream",
     "text": [
      "['我是第一个的text']\n"
     ]
    }
   ],
   "source": [
    "test_property_content = html.xpath('//li//a[@test=\"我是test属性中的值\"]/text()')\n",
    "print(test_property_content)"
   ]
  },
  {
   "cell_type": "markdown",
   "metadata": {},
   "source": [
    "### 使用相对路径查找倒数第二个a标签的href的内容"
   ]
  },
  {
   "cell_type": "code",
   "execution_count": 10,
   "metadata": {},
   "outputs": [
    {
     "name": "stdout",
     "output_type": "stream",
     "text": [
      "['link4.html']\n"
     ]
    }
   ],
   "source": [
    "last_2_href = html.xpath('//li[last()-1]/a/@href')\n",
    "print(last_2_href)"
   ]
  },
  {
   "cell_type": "markdown",
   "metadata": {},
   "source": [
    "### 使用相对路径获取页面id=5并且class=bgcolor的那个元素"
   ]
  },
  {
   "cell_type": "code",
   "execution_count": 11,
   "metadata": {},
   "outputs": [
    {
     "name": "stdout",
     "output_type": "stream",
     "text": [
      "['link5.html']\n"
     ]
    }
   ],
   "source": [
    "id_5_element = html.xpath('//*[@id=\"5\"][@class=\"bgcolor\"]/@href')  #如果只写//*[@id=\"5\"] 显然拿到的是<a>..</a>\n",
    "print(id_5_element)"
   ]
  }
 ],
 "metadata": {
  "kernelspec": {
   "display_name": "Python 3",
   "language": "python",
   "name": "python3"
  },
  "language_info": {
   "codemirror_mode": {
    "name": "ipython",
    "version": 3
   },
   "file_extension": ".py",
   "mimetype": "text/x-python",
   "name": "python",
   "nbconvert_exporter": "python",
   "pygments_lexer": "ipython3",
   "version": "3.8.1"
  },
  "pycharm": {
   "stem_cell": {
    "cell_type": "raw",
    "source": [],
    "metadata": {
     "collapsed": false
    }
   }
  }
 },
 "nbformat": 4,
 "nbformat_minor": 1
}